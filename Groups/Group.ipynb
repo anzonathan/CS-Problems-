{
 "cells": [
  {
   "cell_type": "markdown",
   "metadata": {},
   "source": [
    "### Automating Grouping People in Class"
   ]
  },
  {
   "cell_type": "code",
   "execution_count": 67,
   "metadata": {},
   "outputs": [
    {
     "name": "stdout",
     "output_type": "stream",
     "text": [
      "35 Students in the class\n"
     ]
    }
   ],
   "source": [
    "import pandas as pd \n",
    "import random\n",
    "\n",
    "#data frame for students \n",
    "dfs = pd.read_excel(\"Class.xlsx\")\n",
    "\n",
    "print(len(dfs), \"Students in the class\")"
   ]
  },
  {
   "cell_type": "code",
   "execution_count": null,
   "metadata": {},
   "outputs": [],
   "source": [
    "cs = dfs[dfs[\"Course\"] == \"BSCS\"]\n",
    "print(len(cs), \"CS Students\")"
   ]
  },
  {
   "cell_type": "code",
   "execution_count": null,
   "metadata": {},
   "outputs": [],
   "source": [
    "ds = dfs[dfs[\"Course\"] == \"BSDS\"]\n",
    "print(len(ds), \"DS Students\")"
   ]
  },
  {
   "cell_type": "code",
   "execution_count": 69,
   "metadata": {},
   "outputs": [
    {
     "name": "stdout",
     "output_type": "stream",
     "text": [
      "Group 1\n",
      "\n",
      "Trisha Kobumanzi 14\n",
      "Justin Edeke  8\n",
      "Rockdit Minyiel 11\n",
      "-------------------\n",
      "Group 2\n",
      "\n",
      "Rockdit Minyiel 11\n",
      "Joshua Humble Ssemambo 13\n",
      "Mugoya Andrew 7\n",
      "-------------------\n",
      "Group 3\n",
      "\n",
      "Babirye Joy 33\n",
      "Kirabo Nteza Daniel 30\n",
      "Anthony Ssetimba 10\n",
      "-------------------\n",
      "Group 4\n",
      "\n",
      "Andrew Mukidi 15\n",
      "Mogga Denis Monyo 32\n",
      "Daniel Magero 19\n",
      "-------------------\n",
      "Group 5\n",
      "\n",
      "Andrea Heartily Nabuuma 22\n",
      "Justin Edeke  8\n",
      "Emma Magomu 6\n",
      "-------------------\n",
      "Group 6\n",
      "\n",
      "Justin Edeke  8\n",
      "Mogga Denis Monyo 32\n",
      "Cynthia Maria Nasikye 4\n",
      "-------------------\n",
      "Group 7\n",
      "\n",
      "Kirabo Nteza Daniel 30\n",
      "Warudata Natukunda 34\n",
      "Andrea Heartily Nabuuma 22\n",
      "-------------------\n",
      "Group 8\n",
      "\n",
      "Mugoya Andrew 7\n",
      "Catherine Ndagire 12\n",
      "Aturinda Beinembazi 17\n",
      "-------------------\n",
      "Group 9\n",
      "\n",
      "Justin Edeke  8\n",
      "Kirabo Nteza Daniel 30\n",
      "Nathaniel Anzo 28\n",
      "-------------------\n",
      "Group 10\n",
      "\n",
      "Anthony Ssetimba 10\n",
      "Babirye Joy 33\n",
      "Daniel Magero 19\n",
      "-------------------\n",
      "Group 11\n",
      "\n",
      "Nathaniel Anzo 28\n",
      "Shane Munanura 29\n",
      "Mugoya Andrew 7\n",
      "-------------------\n",
      "Group 12\n",
      "\n",
      "Joseph Owen Mbabazi 26\n",
      "Rockdit Minyiel 11\n",
      "Kiyingi Eric Mark 5\n",
      "-------------------\n"
     ]
    }
   ],
   "source": [
    "#How many people you want per group\n",
    "\n",
    "gn = 3 \n",
    "\n",
    "#number of groups \n",
    "\n",
    "if type(len(dfs)/gn) == float:\n",
    "    n = int(len(dfs)/gn) +1\n",
    "else:\n",
    "    n = int(len(dfs)/gn) \n",
    "\n",
    "\n",
    "\n",
    "for i in range(n):\n",
    "    print(f'Group {i+1}\\n')\n",
    "\n",
    "    y = 0\n",
    "\n",
    "    for j in range(gn):\n",
    "        x = random.randint(0,len(dfs)-1)\n",
    "        if x == y:\n",
    "            print(\"__Empty Slot__\")\n",
    "        else:\n",
    "            print(dfs.at[x,\"Student\"],x)\n",
    "        y = x\n",
    "    \n",
    "    print(\"-------------------\")\n",
    "        "
   ]
  }
 ],
 "metadata": {
  "kernelspec": {
   "display_name": "class",
   "language": "python",
   "name": "python3"
  },
  "language_info": {
   "codemirror_mode": {
    "name": "ipython",
    "version": 3
   },
   "file_extension": ".py",
   "mimetype": "text/x-python",
   "name": "python",
   "nbconvert_exporter": "python",
   "pygments_lexer": "ipython3",
   "version": "3.12.5"
  }
 },
 "nbformat": 4,
 "nbformat_minor": 2
}
